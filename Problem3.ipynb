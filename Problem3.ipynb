{
  "cells": [
    {
      "cell_type": "code",
      "execution_count": null,
      "metadata": {
        "id": "xXwk0POnLxye"
      },
      "outputs": [],
      "source": [
        "import torch\n",
        "import torch.nn as nn\n",
        "import os\n",
        "import numpy as np\n",
        "from torch.utils.data import DataLoader, TensorDataset\n",
        "import torch.nn.functional as F\n",
        "from torch.optim import AdamW,Adam\n",
        "import matplotlib.pyplot as plt\n",
        "from google.colab import files\n",
        "from google.colab import drive"
      ]
    },
    {
      "cell_type": "code",
      "execution_count": null,
      "metadata": {
        "colab": {
          "base_uri": "https://localhost:8080/"
        },
        "collapsed": true,
        "id": "5vTKKqt_R1D3",
        "outputId": "b8c345b2-d0f8-4465-95d8-5dcd1828ed1a"
      },
      "outputs": [
        {
          "output_type": "stream",
          "name": "stdout",
          "text": [
            "Drive already mounted at /content/drive; to attempt to forcibly remount, call drive.mount(\"/content/drive\", force_remount=True).\n"
          ]
        }
      ],
      "source": [
        "drive.mount('/content/drive')"
      ]
    },
    {
      "cell_type": "code",
      "execution_count": null,
      "metadata": {
        "id": "yhIilXfvzCOv"
      },
      "outputs": [],
      "source": [
        "os.chdir('/content/drive/MyDrive/Colab Notebooks')"
      ]
    },
    {
      "cell_type": "code",
      "execution_count": null,
      "metadata": {
        "id": "dfTwvUF9uIB_"
      },
      "outputs": [],
      "source": [
        "#definition of fourier convolution\n",
        "\n",
        "class SpectralConv1d(nn.Module):\n",
        "    def __init__(self, in_channels, out_channels, modes1):\n",
        "        super(SpectralConv1d, self).__init__()\n",
        "\n",
        "        \"\"\"\n",
        "        1D Fourier layer. It does FFT, linear transform, and Inverse FFT.\n",
        "        \"\"\"\n",
        "\n",
        "        self.in_channels = in_channels\n",
        "        self.out_channels = out_channels\n",
        "        self.modes1 = modes1\n",
        "\n",
        "        self.scale = (1 / (in_channels * out_channels))\n",
        "        self.weights1 = nn.Parameter(self.scale * torch.rand(in_channels, out_channels, self.modes1, dtype=torch.cfloat))\n",
        "\n",
        "    # Complex multiplication\n",
        "    def compl_mul1d(self, input, weights):\n",
        "        # (batch, in_channel, x ), (in_channel, out_channel, x) -> (batch, out_channel, x)\n",
        "        return torch.einsum(\"bix,iox->box\", input, weights)\n",
        "\n",
        "    def forward(self, x):\n",
        "        batchsize = x.shape[0]\n",
        "        # x.shape == [batch_size, in_channels, number of grid points]\n",
        "        # hint: use torch.fft library torch.fft.rfft\n",
        "        # use DFT to approximate the fourier transform\n",
        "\n",
        "        # Compute Fourier coefficients\n",
        "        x_ft = torch.fft.rfft(x)\n",
        "\n",
        "        # Multiply relevant Fourier modes\n",
        "        out_ft = torch.zeros(batchsize, self.out_channels, x.size(-1) // 2 + 1, device=x.device, dtype=torch.cfloat)\n",
        "        out_ft[:, :, :self.modes1] = self.compl_mul1d(x_ft[:, :, :self.modes1], self.weights1)\n",
        "\n",
        "        # Return to physical space\n",
        "        x = torch.fft.irfft(out_ft, n=x.size(-1))\n",
        "        return x\n"
      ]
    },
    {
      "cell_type": "code",
      "execution_count": null,
      "metadata": {
        "id": "TYjzZCYPGlfE"
      },
      "outputs": [],
      "source": [
        "#---------------------\n",
        "# Time/epsilon-conditional BN:\n",
        "#---------------------\n",
        "\n",
        "class FILM(torch.nn.Module):\n",
        "    def __init__(self,\n",
        "                channels,\n",
        "                use_bn = True):\n",
        "        super(FILM, self).__init__()\n",
        "        self.channels = channels\n",
        "        self.inp2scale = nn.Linear(in_features=1, out_features=channels, bias=True)\n",
        "        self.inp2bias = nn.Linear(in_features=1, out_features=channels, bias=True)\n",
        "\n",
        "        if use_bn:\n",
        "            self.norm = nn.BatchNorm1d(channels)\n",
        "        else:\n",
        "            self.norm = nn.Identity()\n",
        "\n",
        "    def forward(self, x, tim):\n",
        "\n",
        "        x = self.norm(x)\n",
        "        tim = tim.reshape(-1,1).type_as(x)\n",
        "        scale     = self.inp2scale(tim)\n",
        "        bias      = self.inp2bias(tim)\n",
        "        scale = scale.unsqueeze(2).expand_as(x)\n",
        "        bias  = bias.unsqueeze(2).expand_as(x)\n",
        "\n",
        "        return x * scale + bias"
      ]
    },
    {
      "cell_type": "code",
      "execution_count": null,
      "metadata": {
        "id": "LHZhQmNZkRUx"
      },
      "outputs": [],
      "source": [
        "class AllenCahnFNO(nn.Module):\n",
        "    def __init__(self, modes, width):\n",
        "        super(AllenCahnFNO, self).__init__()\n",
        "\n",
        "        self.modes1 = modes\n",
        "        self.width = width\n",
        "        self.padding = 1  # pad the domain if input is non-periodic\n",
        "        self.time0=FILM(self.width)\n",
        "        self.time1=FILM(self.width)\n",
        "        self.time2=FILM(self.width)\n",
        "        self.time3=FILM(self.width)\n",
        "        self.time4=FILM(self.width)\n",
        "\n",
        "        self.eps0=FILM(self.width, use_bn=False) #already batch normed with time\n",
        "        self.eps1=FILM(self.width, use_bn=False)\n",
        "        self.eps2=FILM(self.width, use_bn=False)\n",
        "        self.eps3=FILM(self.width, use_bn=False)\n",
        "        self.eps4=FILM(self.width, use_bn=False)\n",
        "\n",
        "        self.linear_p = nn.Linear(2, self.width)  # input channel is 2: (u0(x), x) --> GRID IS INCLUDED!\n",
        "\n",
        "        self.spect0 = SpectralConv1d(self.width, self.width, self.modes1)\n",
        "        self.spect1 = SpectralConv1d(self.width, self.width, self.modes1)\n",
        "        self.spect2 = SpectralConv1d(self.width, self.width, self.modes1)\n",
        "        self.spect3 = SpectralConv1d(self.width, self.width, self.modes1)\n",
        "        self.spect4 = SpectralConv1d(self.width, self.width, self.modes1)\n",
        "\n",
        "\n",
        "        self.lin0 = nn.Conv1d(self.width, self.width, 1)\n",
        "        self.lin1 = nn.Conv1d(self.width, self.width, 1)\n",
        "        self.lin2 = nn.Conv1d(self.width, self.width, 1)\n",
        "        self.lin3 = nn.Conv1d(self.width, self.width, 1)\n",
        "        self.lin4 = nn.Conv1d(self.width, self.width, 1)\n",
        "\n",
        "        self.linear_q = nn.Linear(self.width, 32)\n",
        "        self.output_layer = nn.Linear(32, 1)\n",
        "\n",
        "        self.activation = torch.nn.GELU()\n",
        "\n",
        "    def get_grid(self,x):\n",
        "        res=x.shape[1]\n",
        "        grid=torch.linspace(-1,1,res) #grid is between -1 and 1\n",
        "        temporary_tensor=torch.zeros(x.shape[0], res, 2)\n",
        "        temporary_tensor[:,:,0]=x.squeeze()\n",
        "        for i in range(x.shape[0]):\n",
        "            temporary_tensor[i,:,1]=grid\n",
        "        return temporary_tensor\n",
        "\n",
        "    def fourier_layer(self, x, spectral_layer1, conv_layer1, time, bn1, epsilon, bn2):\n",
        "        out=spectral_layer1(x)+conv_layer1(x) #global and local convolution\n",
        "        out=bn1(out,time) #normalize with time\n",
        "        out=bn2(out,epsilon) #embeds epsilon\n",
        "        out=self.activation(out)\n",
        "        return out+x\n",
        "\n",
        "    def linear_layer(self, x, linear_transformation):\n",
        "        return self.activation(linear_transformation(x))\n",
        "\n",
        "    def forward(self, x, time, eps):\n",
        "        x = self.get_grid(x)\n",
        "        x = self.linear_p(x)\n",
        "        x = x.permute(0, 2, 1)\n",
        "\n",
        "        x = F.pad(x, [0, self.padding])\n",
        "        x = self.fourier_layer(x, self.spect0, self.lin0, time, self.time0, eps, self.eps0)\n",
        "        x = self.fourier_layer(x, self.spect1, self.lin1, time, self.time1, eps, self.eps1)\n",
        "        x = self.fourier_layer(x, self.spect2, self.lin2, time, self.time2, eps, self.eps2)\n",
        "        #x = self.fourier_layer(x, self.spect3, self.lin3, time, self.time3, eps, self.eps3)\n",
        "        #x = self.fourier_layer(x, self.spect4, self.lin4, time, self.time4, eps, self.eps4)\n",
        "\n",
        "        x = x[..., :-self.padding]\n",
        "        x = x.permute(0, 2, 1)\n",
        "\n",
        "        x = self.linear_layer(x, self.linear_q)\n",
        "        x = self.output_layer(x)\n",
        "        return x\n"
      ]
    },
    {
      "cell_type": "markdown",
      "metadata": {
        "id": "FrFLzbLPyQY7"
      },
      "source": [
        "Data preprocessing:"
      ]
    },
    {
      "cell_type": "code",
      "execution_count": null,
      "metadata": {
        "id": "b1cVzrnI0O92"
      },
      "outputs": [],
      "source": [
        "epsilon = [0.1, 0.075, 0.04, 0.032]\n",
        "epsilons_ood=[0.025, 0.02]"
      ]
    },
    {
      "cell_type": "code",
      "execution_count": null,
      "metadata": {
        "id": "NjydkfpoyPc-"
      },
      "outputs": [],
      "source": [
        "train_dat=np.load('training_datasets_100.npy',allow_pickle=True).item()\n",
        "ic_eps01=torch.from_numpy(train_dat[0.1]) #3000x5x128\n",
        "ic_eps075=torch.from_numpy(train_dat[0.075])\n",
        "ic_eps004=torch.from_numpy(train_dat[0.04])\n",
        "ic_eps032=torch.from_numpy(train_dat[0.032])\n",
        "time_ind=[(i,j) for i in range(5) for j in range(i+1,5) if i<4]\n",
        "input_train=torch.zeros(96000,128) #3 ic types x 3 eps x time indexes\n",
        "epsilons=torch.zeros(96000) #the eps\n",
        "time=torch.zeros(96000) #delta t\n",
        "output_train=torch.zeros(96000,128)\n",
        "\n",
        "\n",
        "ind=0\n",
        "for i,j in time_ind:\n",
        "    for q in range(2400):\n",
        "        input_train[ind*2400+q,:]=ic_eps01[q,i,:]\n",
        "        output_train[ind*2400+q,:]=ic_eps01[q,j,:]\n",
        "        time[ind*2400+q]=(j-i)/400\n",
        "        epsilons[ind*2400+q]=0.1\n",
        "\n",
        "        input_train[(ind+1)*2400+q,:]=ic_eps075[q,i,:]\n",
        "        output_train[(ind+1)*2400+q,:]=ic_eps075[q,j,:]\n",
        "        time[(ind+1)*2400+q]=(j-i)/400\n",
        "        epsilons[(ind+1)*2400+q]=0.075\n",
        "\n",
        "        input_train[(ind+2)*2400+q,:]=ic_eps004[q,i,:]\n",
        "        output_train[(ind+2)*2400+q,:]=ic_eps004[q,j,:]\n",
        "        time[(ind+2)*2400+q]=(j-i)/400\n",
        "        epsilons[(ind+2)*2400+q]=0.04\n",
        "\n",
        "        input_train[(ind+3)*2400+q,:]=ic_eps032[q,i,:]\n",
        "        output_train[(ind+3)*2400+q,:]=ic_eps032[q,j,:]\n",
        "        time[(ind+3)*2400+q]=(j-i)/400\n",
        "        epsilons[(ind+3)*2400+q]=0.032\n",
        "\n",
        "    ind+=4\n",
        "batch_size=100\n",
        "training_dataset=DataLoader(TensorDataset(input_train,output_train,time,epsilons), batch_size=batch_size, shuffle=True)"
      ]
    },
    {
      "cell_type": "code",
      "execution_count": null,
      "metadata": {
        "id": "ujerLdD1EAM4",
        "colab": {
          "base_uri": "https://localhost:8080/"
        },
        "outputId": "5ddcb221-caef-4697-97e6-a43da8e49ef3"
      },
      "outputs": [
        {
          "output_type": "stream",
          "name": "stdout",
          "text": [
            "tensor([-1.0000, -1.0000, -1.0000, -1.0000, -1.0000, -1.0000, -1.0000, -1.0000,\n",
            "        -1.0000, -1.0000, -1.0000, -1.0000, -1.0000, -1.0000, -1.0000, -1.0000,\n",
            "        -1.0000, -1.0000, -1.0000, -1.0000, -1.0000, -1.0000, -1.0000, -0.9999,\n",
            "        -0.9999, -0.9998, -0.9997, -0.9994, -0.9989, -0.9979, -0.9960, -0.9922,\n",
            "        -0.9848, -0.9703, -0.9424, -0.8894, -0.7919, -0.6234, -0.3633, -0.0274,\n",
            "         0.3151,  0.5891,  0.7706,  0.8768,  0.9345,  0.9639,  0.9771,  0.9800,\n",
            "         0.9738,  0.9556,  0.9176,  0.8450,  0.7142,  0.4991,  0.1935, -0.1571,\n",
            "        -0.4708, -0.6962, -0.8352, -0.9134, -0.9552, -0.9770, -0.9882, -0.9940,\n",
            "        -0.9969, -0.9984, -0.9992, -0.9996, -0.9998, -0.9999, -0.9999, -1.0000,\n",
            "        -1.0000, -1.0000, -1.0000, -1.0000, -1.0000, -1.0000, -1.0000, -1.0000,\n",
            "        -1.0000, -1.0000, -1.0000, -1.0000, -1.0000, -1.0000, -1.0000, -1.0000,\n",
            "        -1.0000, -1.0000, -1.0000, -1.0000, -1.0000, -1.0000, -1.0000, -1.0000,\n",
            "        -1.0000, -1.0000, -1.0000, -1.0000, -1.0000, -1.0000, -1.0000, -1.0000,\n",
            "        -1.0000, -1.0000, -1.0000, -1.0000, -1.0000, -1.0000, -1.0000, -1.0000,\n",
            "        -1.0000, -1.0000, -1.0000, -1.0000, -1.0000, -1.0000, -1.0000, -1.0000,\n",
            "        -1.0000, -1.0000, -1.0000, -1.0000, -1.0000, -1.0000, -1.0000, -1.0000])\n"
          ]
        }
      ],
      "source": [
        "print(input_train[-1,:])"
      ]
    },
    {
      "cell_type": "code",
      "execution_count": null,
      "metadata": {
        "id": "cDlrOVLy0I6V"
      },
      "outputs": [],
      "source": [
        "testing_dat=np.load('testing_datasets_100.npy',allow_pickle=True).item()\n",
        "ic_eps01_test=torch.from_numpy(testing_dat[0.1])\n",
        "ic_eps075_test=torch.from_numpy(testing_dat[0.075])\n",
        "ic_eps004_test=torch.from_numpy(testing_dat[0.04])\n",
        "ic_eps032_test=torch.from_numpy(train_dat[0.032])\n",
        "\n",
        "input_test=torch.zeros(24000,128)\n",
        "output_test=torch.zeros(24000,128)\n",
        "time_test=torch.zeros(24000)\n",
        "epsilons_test=torch.zeros(24000)\n",
        "\n",
        "ind=0\n",
        "for i,j in time_ind:\n",
        "    for q in range(600):\n",
        "        input_test[ind*600+q,:]=ic_eps01_test[q,i,:]\n",
        "        output_test[ind*600+q,:]=ic_eps01_test[q,j,:]\n",
        "        time_test[ind*600+q]=(j-i)/400\n",
        "        epsilons_test[ind*600+q]=0.1\n",
        "\n",
        "        input_test[(ind+1)*600+q,:]=ic_eps075_test[q,i,:]\n",
        "        output_test[(ind+1)*600+q,:]=ic_eps075_test[q,j,:]\n",
        "        time_test[(ind+1)*600+q]=(j-i)/400\n",
        "        epsilons_test[(ind+1)*600+q]=0.075\n",
        "\n",
        "        input_test[(ind+2)*600+q,:]=ic_eps004_test[q,i,:]\n",
        "        output_test[(ind+2)*600+q,:]=ic_eps004_test[q,j,:]\n",
        "        time_test[(ind+2)*600+q]=(j-i)/400\n",
        "        epsilons_test[(ind+2)*600+q]=0.04\n",
        "\n",
        "        input_test[(ind+3)*600+q,:]=ic_eps032_test[q,i,:]\n",
        "        output_test[(ind+3)*600+q,:]=ic_eps032_test[q,j,:]\n",
        "        time_test[(ind+3)*600+q]=(j-i)/400\n",
        "        epsilons_test[(ind+3)*600+q]=0.032\n",
        "    ind+=4\n",
        "\n",
        "testing_dat=DataLoader(TensorDataset(input_test,output_test,time_test,epsilons_test),batch_size=batch_size, shuffle=True)"
      ]
    },
    {
      "cell_type": "code",
      "execution_count": null,
      "metadata": {
        "id": "zvx7GCdIYhQH",
        "collapsed": true
      },
      "outputs": [],
      "source": [
        "print(ic_eps004_test.shape)"
      ]
    },
    {
      "cell_type": "code",
      "execution_count": null,
      "metadata": {
        "id": "VAP9bKLyyPYE"
      },
      "outputs": [],
      "source": [
        "def l2loss(output_pred,real_output):\n",
        "  return (torch.mean((output_pred - real_output) ** 2) / torch.mean(real_output ** 2)) ** 0.5 * 100"
      ]
    },
    {
      "cell_type": "code",
      "execution_count": null,
      "metadata": {
        "id": "xiyOe7hPH3io"
      },
      "outputs": [],
      "source": [
        "learning_rate = 0.001\n",
        "epochs= 10\n",
        "step_size = 50\n",
        "gamma = 0.50"
      ]
    },
    {
      "cell_type": "code",
      "execution_count": null,
      "metadata": {
        "id": "AX8soE2fyPVa"
      },
      "outputs": [],
      "source": [
        "modes = 64\n",
        "width = 80\n",
        "fno = AllenCahnFNO(modes, width) # model"
      ]
    },
    {
      "cell_type": "code",
      "execution_count": null,
      "metadata": {
        "colab": {
          "base_uri": "https://localhost:8080/"
        },
        "id": "hNVU0epHm_I0",
        "outputId": "0b4c49c7-5cb6-468a-be85-50b6cd9da04c"
      },
      "outputs": [
        {
          "output_type": "stream",
          "name": "stdout",
          "text": [
            "######### Epoch: 0  ######### Train Loss: 23.79153646727403  ######### Relative L2 Test Norm: 18.22265956401825\n",
            "######### Epoch: 1  ######### Train Loss: 12.841991802553336  ######### Relative L2 Test Norm: 10.467064986626307\n",
            "######### Epoch: 2  ######### Train Loss: 9.514783596495787  ######### Relative L2 Test Norm: 9.425809832413991\n",
            "######### Epoch: 3  ######### Train Loss: 8.419236880044142  ######### Relative L2 Test Norm: 8.034320942560832\n",
            "######### Epoch: 4  ######### Train Loss: 7.616241428256035  ######### Relative L2 Test Norm: 9.157779810825984\n",
            "######### Epoch: 5  ######### Train Loss: 7.150005780905485  ######### Relative L2 Test Norm: 7.670623298486074\n",
            "######### Epoch: 6  ######### Train Loss: 6.732554790874322  ######### Relative L2 Test Norm: 6.867689522107442\n",
            "######### Epoch: 7  ######### Train Loss: 6.394981069862842  ######### Relative L2 Test Norm: 7.2796325266361235\n",
            "######### Epoch: 8  ######### Train Loss: 6.3800948187708855  ######### Relative L2 Test Norm: 6.412956527868906\n",
            "######### Epoch: 9  ######### Train Loss: 6.05256528283159  ######### Relative L2 Test Norm: 6.046672549843788\n"
          ]
        }
      ],
      "source": [
        "optimizer = Adam(fno.parameters(), lr=learning_rate)\n",
        "scheduler = torch.optim.lr_scheduler.StepLR(optimizer, step_size=step_size, gamma=gamma)\n",
        "\n",
        "#l = torch.nn.MSELoss()\n",
        "freq_print = 1\n",
        "for epoch in range(epochs):\n",
        "    train_mse = 0.0\n",
        "    for step, (input_batch, output_batch, time_batch, eps_batch) in enumerate(training_dataset):\n",
        "        optimizer.zero_grad()\n",
        "        output_pred_batch = fno(input_batch,time_batch,eps_batch).squeeze(2)\n",
        "        loss_f = l2loss(output_pred_batch, output_batch)\n",
        "        loss_f.backward()\n",
        "        optimizer.step()\n",
        "        train_mse += loss_f.item()\n",
        "    train_mse /= len(training_dataset)\n",
        "\n",
        "    scheduler.step()\n",
        "\n",
        "    with torch.no_grad():\n",
        "        fno.eval()\n",
        "        test_relative_l2 = 0.0\n",
        "        for step, (input, output, time, eps) in enumerate(testing_dat):\n",
        "            output_pred = fno(input,time,eps).squeeze(2)\n",
        "            loss_f = (torch.mean((output_pred - output) ** 2) / torch.mean(output ** 2)) ** 0.5 * 100\n",
        "            test_relative_l2 += loss_f.item()\n",
        "        test_relative_l2 /= len(testing_dat)\n",
        "\n",
        "        if epoch % freq_print == 0: print(\"######### Epoch:\", epoch, \" ######### Train Loss:\", train_mse, \" ######### Relative L2 Test Norm:\", test_relative_l2)\n",
        "\n"
      ]
    },
    {
      "cell_type": "code",
      "execution_count": null,
      "metadata": {
        "colab": {
          "base_uri": "https://localhost:8080/"
        },
        "id": "c2W87lbg8Qu7",
        "outputId": "170d6f72-64de-4407-b1a7-67c40991efe5"
      },
      "outputs": [
        {
          "output_type": "execute_result",
          "data": {
            "text/plain": [
              "8.336320106188456"
            ]
          },
          "metadata": {},
          "execution_count": 29
        }
      ],
      "source": [
        "ood_dat=np.load('sharp_datasets_100.npy',allow_pickle=True)\n",
        "ood_eps025=torch.flatten(torch.from_numpy(ood_dat[0:3,:,:,:]),0,1) #600x5x128  (3 types of initial conditions)\n",
        "ood_eps02=torch.flatten(torch.from_numpy(ood_dat[3:6,:,:,:]),0,1)\n",
        "#ood_eps01=torch.flatten(torch.from_numpy(ood_dat[6:9,:,:,:]),0,1)\n",
        "input_ood=torch.zeros(12000,128)\n",
        "output_ood=torch.zeros(12000,128)\n",
        "time_ood=torch.zeros(12000)\n",
        "epsilons_ood=torch.zeros(2*10*600) #2 eps x 10 pairs x 200 traj x 3 IC\n",
        "\n",
        "ind=0\n",
        "for i,j in time_ind:\n",
        "    for q in range(600):   #600x3x10\n",
        "        input_ood[ind*600+q,:]=ood_eps025[q,i,:]\n",
        "        output_ood[ind*600+q,:]=ood_eps025[q,j,:]\n",
        "        time_ood[ind*600+q]=(j-i)/400\n",
        "        epsilons_ood[ind*600+q]=0.025\n",
        "\n",
        "        input_ood[(ind+1)*600+q,:]=ood_eps025[q,i,:]\n",
        "        output_ood[(ind+1)*600+q,:]=ood_eps025[q,j,:]\n",
        "        time_ood[(ind+1)*600+q]=(j-i)/400\n",
        "        epsilons_ood[(ind+1)*600+q]=0.02\n",
        "\n",
        "      #  input_ood[(ind+2)*600+q,:]=ood_eps01[q,i,:]\n",
        "     #   output_ood[(ind+2)*600+q,:]=ood_eps01[q,j,:]\n",
        "    #    time_ood[(ind+2)*600+q]=(j-i)/400\n",
        "   #     epsilons_ood[(ind+2)*600+q]=0.01\n",
        "\n",
        "    ind+=2\n",
        "ood_dat=DataLoader(TensorDataset(input_ood,output_ood,time_ood,epsilons_ood),batch_size=100)\n",
        "\n",
        "with torch.no_grad():\n",
        "        fno.eval()\n",
        "        test_relative_l2 = 0.0\n",
        "        for step, (input, output, time, eps) in enumerate(ood_dat):\n",
        "            output_pred = fno(input,time,eps).squeeze(2)\n",
        "            loss_f = (torch.mean((output_pred - output) ** 2) / torch.mean(output ** 2)) ** 0.5 * 100\n",
        "            test_relative_l2 += loss_f.item()\n",
        "        test_relative_l2 /= len(ood_dat)\n",
        "\n",
        "test_relative_l2"
      ]
    },
    {
      "cell_type": "markdown",
      "source": [
        "Error of eps=0.025"
      ],
      "metadata": {
        "id": "xWqIZ_3t7fiC"
      }
    },
    {
      "cell_type": "code",
      "execution_count": null,
      "metadata": {
        "id": "GzeJ7LfN1q-s",
        "colab": {
          "base_uri": "https://localhost:8080/"
        },
        "outputId": "9413e1db-b6c5-45b7-cc0f-a8b3e305266b"
      },
      "outputs": [
        {
          "output_type": "execute_result",
          "data": {
            "text/plain": [
              "8.227307550112407"
            ]
          },
          "metadata": {},
          "execution_count": 27
        }
      ],
      "source": [
        "eps_025=torch.ones(6000)*0.025\n",
        "time_025=torch.zeros(6000)\n",
        "ind=0\n",
        "input_025=torch.zeros(6000,128)\n",
        "output_025=torch.zeros(6000,128)\n",
        "for i,j in time_ind:\n",
        "    for q in range(600):\n",
        "        input_025[ind*600+q,:]=ood_eps025[q,i,:]\n",
        "        output_025[ind*600+q,:]=ood_eps025[q,j,:]\n",
        "        time_025[ind*600+q]=(j-i)/400\n",
        "    ind+=1\n",
        "dataset_025=DataLoader(TensorDataset(input_025,output_025,time_025,eps_025),batch_size=100)\n",
        "with torch.no_grad():\n",
        "        fno.eval()\n",
        "        test_relative_l2 = 0.0\n",
        "        for step, (input, output, time, eps) in enumerate(dataset_025):\n",
        "            output_pred = fno(input,time,eps).squeeze(2)\n",
        "            loss_f = (torch.mean((output_pred - output) ** 2) / torch.mean(output ** 2)) ** 0.5 * 100\n",
        "            test_relative_l2 += loss_f.item()\n",
        "        test_relative_l2 /= len(dataset_025)\n",
        "\n",
        "test_relative_l2"
      ]
    },
    {
      "cell_type": "markdown",
      "source": [
        "Error at eps=0.02"
      ],
      "metadata": {
        "id": "lPQcqRnb7jZO"
      }
    },
    {
      "cell_type": "code",
      "source": [
        "eps_02=torch.ones(6000)*0.02\n",
        "time_02=torch.zeros(6000)\n",
        "ind=0\n",
        "input_02=torch.zeros(6000,128)\n",
        "output_02=torch.zeros(6000,128)\n",
        "for i,j in time_ind:\n",
        "    for q in range(600):   #600x3x10\n",
        "        input_02[ind*600+q,:]=ood_eps02[q,i,:]\n",
        "        output_02[ind*600+q,:]=ood_eps02[q,j,:]\n",
        "        time_02[ind*600+q]=(j-i)/400\n",
        "    ind+=1\n",
        "dataset_02=DataLoader(TensorDataset(input_02,output_02,time_02,eps_02),batch_size=100)\n",
        "with torch.no_grad():\n",
        "        fno.eval()\n",
        "        test_relative_l2 = 0.0\n",
        "        for step, (input, output, time, eps) in enumerate(dataset_02):\n",
        "            output_pred = fno(input,time,eps).squeeze(2)\n",
        "            loss_f = (torch.mean((output_pred - output) ** 2) / torch.mean(output ** 2)) ** 0.5 * 100\n",
        "            test_relative_l2 += loss_f.item()\n",
        "        test_relative_l2 /= len(dataset_02)\n",
        "\n",
        "test_relative_l2"
      ],
      "metadata": {
        "colab": {
          "base_uri": "https://localhost:8080/"
        },
        "id": "Vdt3qnJu7lgT",
        "outputId": "42cc9bd8-b633-4b43-8732-5f7ed322d629"
      },
      "execution_count": null,
      "outputs": [
        {
          "output_type": "execute_result",
          "data": {
            "text/plain": [
              "12.159576710065206"
            ]
          },
          "metadata": {},
          "execution_count": 28
        }
      ]
    },
    {
      "cell_type": "code",
      "execution_count": null,
      "metadata": {
        "colab": {
          "base_uri": "https://localhost:8080/",
          "height": 503
        },
        "id": "8K6_JMv0gs3v",
        "outputId": "0a221c54-add5-453d-f7b1-09cd51b443d1"
      },
      "outputs": [
        {
          "output_type": "stream",
          "name": "stdout",
          "text": [
            "tensor(0.0200)\n",
            "tensor(0.0050)\n",
            "torch.Size([1, 128, 1])\n"
          ]
        },
        {
          "output_type": "execute_result",
          "data": {
            "text/plain": [
              "[<matplotlib.lines.Line2D at 0x7b158ea26290>]"
            ]
          },
          "metadata": {},
          "execution_count": 20
        },
        {
          "output_type": "display_data",
          "data": {
            "text/plain": [
              "<Figure size 640x480 with 1 Axes>"
            ],
            "image/png": "[encoded data removed]"
          },
          "metadata": {}
        }
      ],
      "source": [
        "hp=1802\n",
        "example_sharp=input_ood[hp,:]\n",
        "time_sharp=time_ood[hp]\n",
        "eps_sharp=epsilons_ood[hp]\n",
        "output_sharp=output_ood[hp,:]\n",
        "print(eps_sharp)\n",
        "print(time_sharp)\n",
        "prediction_output=fno(example_sharp.unsqueeze(0),time_sharp,eps_sharp)\n",
        "print(prediction_output.shape)\n",
        "plt.plot(torch.linspace(-1,1,128),output_sharp)\n",
        "plt.plot(torch.linspace(-1,1,128),prediction_output.squeeze().detach())"
      ]
    },
    {
      "cell_type": "markdown",
      "metadata": {
        "id": "5a7Mz69hC0CQ"
      },
      "source": [
        "For sharper epsilons and same types of initial conditions, the model makes a mean error of 9.5. This may be due to the high sensitivity of the solution to small variation of epsilon, making it unable to generalize well"
      ]
    },
    {
      "cell_type": "code",
      "execution_count": null,
      "metadata": {
        "colab": {
          "base_uri": "https://localhost:8080/"
        },
        "id": "0FHzq8hSOpfo",
        "outputId": "f5a1a4b3-95ff-47dd-bcb0-830ca0162e90"
      },
      "outputs": [
        {
          "output_type": "execute_result",
          "data": {
            "text/plain": [
              "46.321392039457955"
            ]
          },
          "metadata": {},
          "execution_count": 21
        }
      ],
      "source": [
        "exp_dat=np.load('exp_dataset.npy',allow_pickle=True)\n",
        "ood_eps025=torch.from_numpy(exp_dat[0,:,:,:]) #3x200x5x128\n",
        "ood_eps02=torch.from_numpy(exp_dat[1,:,:,:])\n",
        "ood_eps01=torch.from_numpy(exp_dat[2,:,:,:])\n",
        "input_exp=torch.zeros(6000,128)\n",
        "output_exp=torch.zeros(6000,128)\n",
        "time_exp=torch.zeros(6000)\n",
        "epsilons_exp=torch.zeros(6000)\n",
        "\n",
        "ind=0\n",
        "for i,j in time_ind:  #x10\n",
        "    for q in range(200):    #3x200\n",
        "        input_exp[ind*200+q,:]=ood_eps025[q,i,:]\n",
        "        output_exp[ind*200+q,:]=ood_eps025[q,j,:]\n",
        "        time_exp[ind*200+q]=(j-i)/400\n",
        "        epsilons_exp[ind*200+q]=0.1\n",
        "\n",
        "        input_exp[(ind+1)*200+q,:]=ood_eps025[q,i,:]\n",
        "        output_exp[(ind+1)*200+q,:]=ood_eps025[q,j,:]\n",
        "        time_exp[(ind+1)*200+q]=(j-i)/400\n",
        "        epsilons_exp[(ind+1)*200+q]=0.075\n",
        "\n",
        "        input_exp[(ind+2)*200+q,:]=ood_eps01[q,i,:]\n",
        "        output_exp[(ind+2)*200+q,:]=ood_eps01[q,j,:]\n",
        "        time_exp[(ind+2)*200+q]=(j-i)/400\n",
        "        epsilons_exp[(ind+2)*200+q]=0.04\n",
        "\n",
        "    ind+=3\n",
        "exp_dataset=DataLoader(TensorDataset(input_exp,output_exp,time_exp,epsilons_exp),batch_size=100)\n",
        "\n",
        "with torch.no_grad():\n",
        "        fno.eval()\n",
        "        test_relative_l2 = 0.0\n",
        "        for step, (input, output, time, eps) in enumerate(exp_dataset):\n",
        "            output_pred = fno(input,time,eps).squeeze(2)\n",
        "            loss_f = (torch.mean((output_pred - output) ** 2) / torch.mean(output ** 2)) ** 0.5 * 100\n",
        "            test_relative_l2 += loss_f.item()\n",
        "        test_relative_l2 /= len(exp_dataset)\n",
        "\n",
        "test_relative_l2"
      ]
    },
    {
      "cell_type": "markdown",
      "metadata": {
        "id": "M5EL7VRnqy9W"
      },
      "source": [
        "Plotting an example:"
      ]
    },
    {
      "cell_type": "code",
      "execution_count": null,
      "metadata": {
        "colab": {
          "base_uri": "https://localhost:8080/",
          "height": 503
        },
        "id": "yztWp7gepodM",
        "outputId": "25612ba5-4d9a-4c83-c68c-ec1b47d0e8f9"
      },
      "outputs": [
        {
          "output_type": "stream",
          "name": "stdout",
          "text": [
            "tensor(0.0400)\n",
            "tensor(0.0025)\n",
            "torch.Size([1, 128, 1])\n"
          ]
        },
        {
          "output_type": "execute_result",
          "data": {
            "text/plain": [
              "[<matplotlib.lines.Line2D at 0x7b158e3e40d0>]"
            ]
          },
          "metadata": {},
          "execution_count": 22
        },
        {
          "output_type": "display_data",
          "data": {
            "text/plain": [
              "<Figure size 640x480 with 1 Axes>"
            ],
            "image/png": "[encoded data removed]"
          },
          "metadata": {}
        }
      ],
      "source": [
        "id=503\n",
        "example_exp=input_exp[id,:]\n",
        "time_e=time_exp[id]\n",
        "eps_e=epsilons_exp[id]\n",
        "output_e=output_exp[id,:]\n",
        "print(eps_e)\n",
        "print(time_e)\n",
        "prediction_output=fno(example_exp.unsqueeze(0),time_e,eps_e)\n",
        "print(prediction_output.shape)\n",
        "plt.plot(torch.linspace(-1,1,128),output_e)\n",
        "plt.plot(torch.linspace(-1,1,128),prediction_output.squeeze().detach())"
      ]
    },
    {
      "cell_type": "code",
      "execution_count": null,
      "metadata": {
        "colab": {
          "base_uri": "https://localhost:8080/"
        },
        "id": "9xJnqBbFFpaZ",
        "outputId": "ceb22166-10fa-40cb-c4a5-fc92a2d9d10f"
      },
      "outputs": [
        {
          "output_type": "execute_result",
          "data": {
            "text/plain": [
              "53.801584002375606"
            ]
          },
          "metadata": {},
          "execution_count": 23
        }
      ],
      "source": [
        "exp_dat=np.load('high_freq_dataset.npy',allow_pickle=True)\n",
        "ood_eps025=torch.from_numpy(exp_dat[0,:,:,:]) #3x200x5x128\n",
        "ood_eps02=torch.from_numpy(exp_dat[1,:,:,:])\n",
        "ood_eps01=torch.from_numpy(exp_dat[2,:,:,:])\n",
        "ood_eps032=torch.from_numpy(exp_dat[3,:,:,:])\n",
        "input_exp=torch.zeros(8000,128)\n",
        "output_exp=torch.zeros(8000,128)\n",
        "time_exp=torch.zeros(8000)\n",
        "epsilons_exp=torch.zeros(8000)\n",
        "\n",
        "ind=0\n",
        "for i,j in time_ind:  #x10\n",
        "    for q in range(200):    #3x200\n",
        "        input_exp[ind*200+q,:]=ood_eps025[q,i,:]\n",
        "        output_exp[ind*200+q,:]=ood_eps025[q,j,:]\n",
        "        time_exp[ind*200+q]=(j-i)/400\n",
        "        epsilons_exp[ind*200+q]=0.1\n",
        "\n",
        "        input_exp[(ind+1)*200+q,:]=ood_eps025[q,i,:]\n",
        "        output_exp[(ind+1)*200+q,:]=ood_eps025[q,j,:]\n",
        "        time_exp[(ind+1)*200+q]=(j-i)/400\n",
        "        epsilons_exp[(ind+1)*200+q]=0.075\n",
        "\n",
        "        input_exp[(ind+2)*200+q,:]=ood_eps01[q,i,:]\n",
        "        output_exp[(ind+2)*200+q,:]=ood_eps01[q,j,:]\n",
        "        time_exp[(ind+2)*200+q]=(j-i)/400\n",
        "        epsilons_exp[(ind+2)*200+q]=0.04\n",
        "\n",
        "        input_exp[(ind+3)*200+q,:]=ood_eps01[q,i,:]\n",
        "        output_exp[(ind+3)*200+q,:]=ood_eps01[q,j,:]\n",
        "        time_exp[(ind+3)*200+q]=(j-i)/400\n",
        "        epsilons_exp[(ind+3)*200+q]=0.032\n",
        "\n",
        "    ind+=4\n",
        "exp_dataset=DataLoader(TensorDataset(input_exp,output_exp,time_exp,epsilons_exp),batch_size=100)\n",
        "\n",
        "with torch.no_grad():\n",
        "        fno.eval()\n",
        "        test_relative_l2 = 0.0\n",
        "        for step, (input, output, time, eps) in enumerate(exp_dataset):\n",
        "            output_pred = fno(input,time,eps).squeeze(2)\n",
        "            loss_f = (torch.mean((output_pred - output) ** 2) / torch.mean(output ** 2)) ** 0.5 * 100\n",
        "            test_relative_l2 += loss_f.item()\n",
        "        test_relative_l2 /= len(exp_dataset)\n",
        "\n",
        "test_relative_l2"
      ]
    },
    {
      "cell_type": "code",
      "execution_count": null,
      "metadata": {
        "colab": {
          "base_uri": "https://localhost:8080/",
          "height": 484
        },
        "id": "gaA2zXO4gopS",
        "outputId": "39e234b5-8a18-46af-9d82-55b8fb71a04c"
      },
      "outputs": [
        {
          "output_type": "stream",
          "name": "stdout",
          "text": [
            "tensor(0.0050)\n",
            "tensor(0.0400)\n"
          ]
        },
        {
          "output_type": "execute_result",
          "data": {
            "text/plain": [
              "[<matplotlib.lines.Line2D at 0x7b158d0569b0>]"
            ]
          },
          "metadata": {},
          "execution_count": 24
        },
        {
          "output_type": "display_data",
          "data": {
            "text/plain": [
              "<Figure size 640x480 with 1 Axes>"
            ],
            "image/png": "[encoded data removed]"
          },
          "metadata": {}
        }
      ],
      "source": [
        "idx=1239\n",
        "example_exp=input_exp[idx,:]\n",
        "time_e=time_exp[idx]\n",
        "eps_e=epsilons_exp[idx]\n",
        "output_e=output_exp[idx,:]\n",
        "print(time_e)\n",
        "print(eps_e)\n",
        "prediction_output=fno(example_exp.unsqueeze(0),time_e,eps_e)\n",
        "\n",
        "plt.plot(torch.linspace(-1,1,128),output_e)\n",
        "plt.plot(torch.linspace(-1,1,128),prediction_output.squeeze().detach())"
      ]
    },
    {
      "cell_type": "markdown",
      "metadata": {
        "id": "6ysWJa1xF1wt"
      },
      "source": [
        "The model seems to not behave well for high frequency data: even sinusoidal waves aren't well represented by it"
      ]
    }
  ],
  "metadata": {
    "colab": {
      "provenance": []
    },
    "kernelspec": {
      "display_name": "Python 3",
      "name": "python3"
    },
    "language_info": {
      "name": "python"
    }
  },
  "nbformat": 4,
  "nbformat_minor": 0
}